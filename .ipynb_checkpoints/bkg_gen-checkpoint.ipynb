{
 "cells": [
  {
   "cell_type": "code",
   "execution_count": 3,
   "metadata": {},
   "outputs": [],
   "source": [
    "from package import *\n",
    "\n",
    "tester = pickle.load(open('./Testers/' + sys.argv[1],'rb'))\n",
    "\n",
    "bkg_TS = np.zeros([tester.nper, len(tester.Methods)])\n",
    "\n",
    "t1= datetime.datetime.now()\n",
    "for i in (np.arange(tester.nper)):\n",
    "    bkg_TS[i] = tester.test_methods(tester.ra, tester.dec)\n",
    "t2= datetime.datetime.now()\n",
    "dt=(t2-t1).total_seconds()\n",
    "\n",
    "if tester.signal_trials: \n",
    "    #compare signal trials to this background sample\n",
    "    signal_TS = np.load('./data/'+tester.name + \"_SIGNAL.npz\")\n",
    "    #counts the number of background events larger than each signal event in this distribution fragment\n",
    "    psum = np.array([p_value(ev,bkg_TS)*bkg_TS.shape[0] for ev in signal_TS])\n",
    "    np.savez('./data/'+ tester.name + \"_BKG.npz\", TS = bkg_TS, psum = psum, runtime = dt)\n",
    "else:\n",
    "    np.savez('./data/'+ tester.name + \"_BKG.npz\", TS = bkg_TS, runtime = dt)"
   ]
  }
 ],
 "metadata": {
  "kernelspec": {
   "display_name": "Python 3",
   "language": "python",
   "name": "python3"
  },
  "language_info": {
   "codemirror_mode": {
    "name": "ipython",
    "version": 3
   },
   "file_extension": ".py",
   "mimetype": "text/x-python",
   "name": "python",
   "nbconvert_exporter": "python",
   "pygments_lexer": "ipython3",
   "version": "3.7.4"
  }
 },
 "nbformat": 4,
 "nbformat_minor": 2
}
