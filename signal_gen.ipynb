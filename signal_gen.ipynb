{
 "cells": [
  {
   "cell_type": "code",
   "execution_count": null,
   "metadata": {},
   "outputs": [],
   "source": [
    "from package import *\n",
    "\n",
    "tester = pickle.load(open('./Testers/' + sys.argv[1],'rb'))\n",
    "\n",
    "signal_TS = np.zeros([tester.nper, len(tester.Methods)])\n",
    "\n",
    "t1= datetime.datetime.now()\n",
    "for i in (np.arange(self.signal_trials)):\n",
    "    signal_TS[i] = tester.test_methods(tester.ra, tester.dec, ninj_t = tester.ninj_t, ninj_c = tester.ninj_c, inj_ra = tester.inj_ra, inj_dec = tester.inj_dec)\n",
    "t2= datetime.datetime.now()\n",
    "dt=(t2-t1).total_seconds()\n",
    "\n",
    "np.savez(tester.name + \"_SIGNAL.npz\", TS = signal_TS, runtime = dt)"
   ]
  }
 ],
 "metadata": {
  "kernelspec": {
   "display_name": "Python 3",
   "language": "python",
   "name": "python3"
  },
  "language_info": {
   "codemirror_mode": {
    "name": "ipython",
    "version": 3
   },
   "file_extension": ".py",
   "mimetype": "text/x-python",
   "name": "python",
   "nbconvert_exporter": "python",
   "pygments_lexer": "ipython3",
   "version": "3.7.4"
  }
 },
 "nbformat": 4,
 "nbformat_minor": 2
}
